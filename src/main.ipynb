{
 "cells": [
  {
   "cell_type": "markdown",
   "metadata": {},
   "source": [
    "# Task\n",
    "For the given dataset of Seattle prices `house.scv` construct two models predicting prices in as cotigorical values based on `price_bin` and continueus ones 'price'.\n",
    "\n",
    "Data is presented as following table\n",
    "\n",
    "|    | column              | kind        | data type   |   unique items |   nans |\n",
    "|:--:|:-------------------:|:-----------:|:-----------:|:--------------:|:------:|\n",
    "|  0 | id                  | index       | int64       |          21436 |      0 |\n",
    "|  1 | date                | date        | object      |            372 |      0 |\n",
    "|  2 | price               | numerical   | float64     |           3625 |      0 |\n",
    "|  3 | price_bin           | categorical | int64       |              2 |      0 |\n",
    "|  4 | bedrooms            | categorical | int64       |             13 |      0 |\n",
    "|  5 | bathrooms           | categorical | float64     |             30 |      0 |\n",
    "|  6 | sqft_living         | numerical   | int64       |           1038 |      0 |\n",
    "|  7 | sqft_lot            | numerical   | int64       |           9782 |      0 |\n",
    "|  8 | floors              | categorical | float64     |              6 |      0 |\n",
    "|  9 | waterfront          | categorical | int64       |              2 |      0 |\n",
    "| 10 | view                | categorical | int64       |              5 |      0 |\n",
    "| 11 | condition           | categorical | int64       |              5 |      0 |\n",
    "| 12 | grade               | categorical | int64       |             12 |      0 |\n",
    "| 13 | sqft_above          | numerical   | int64       |            946 |      0 |\n",
    "| 14 | sqft_basement       | numerical   | int64       |            306 |      0 |\n",
    "| 15 | yr_built            | year        | int64       |            116 |      0 |\n",
    "| 16 | yr_renovated        | year        | int64       |             70 |      0 |\n",
    "| 17 | zipcode             | categorical | int64       |             70 |      0 |\n",
    "| 18 | lat                 | geospacial  | float64     |           5034 |      0 |\n",
    "| 19 | long                | geospacial  | float64     |            752 |      0 |\n",
    "| 20 | sqft_living15       | numerical   | int64       |            777 |      0 |\n",
    "| 21 | sqft_lot15          | numerical   | int64       |           8689 |      0 |\n"
   ]
  },
  {
   "cell_type": "code",
   "execution_count": null,
   "metadata": {},
   "outputs": [],
   "source": [
    "import importlib\n",
    "import utils \n",
    "\n",
    "import pandas as pd\n",
    "import numpy as np\n",
    "\n",
    "import matplotlib.pylab as plt\n",
    "from pandas.plotting import scatter_matrix\n",
    "import seaborn as sns; sns.set()\n",
    "\n",
    "%matplotlib inline"
   ]
  },
  {
   "cell_type": "code",
   "execution_count": null,
   "metadata": {
    "tags": []
   },
   "outputs": [],
   "source": [
    "importlib.reload(utils)\n",
    "\n",
    "df = utils.PrepareData().df\n",
    "\n",
    "df.head()"
   ]
  },
  {
   "cell_type": "markdown",
   "metadata": {},
   "source": [
    "## Data preparation"
   ]
  },
  {
   "cell_type": "markdown",
   "metadata": {},
   "source": [
    "### Date feature\n",
    "\n",
    "The data is aggregated for a period of just one year between May 2014 and May 2015. Methinks, it is not enough time lap for predicting price neither by a season nor making timeseries for future price predictions.\n",
    "\n",
    "![Sales per month](figs/sales_per_month.png)\n",
    "\n",
    "Next plot shows an absence of correlations between timeseries (sales per month) for each zipcode.\n",
    "\n",
    "![zipcode corr per month](figs/zipcode_corr_per_month.png)\n",
    "\n",
    "Detailed notebook file for above pictures evaluation is located in [time_series.ipynb](time_series.ipynb)\n",
    "\n",
    "As we see from above, the time series correlation is quite weak, therefore in future study the date featute will be ignored."
   ]
  },
  {
   "cell_type": "markdown",
   "metadata": {},
   "source": [
    "## yr_renovated feature"
   ]
  },
  {
   "cell_type": "code",
   "execution_count": null,
   "metadata": {},
   "outputs": [],
   "source": [
    "ax = plt.axes()\n",
    "df['yr_renovated'].hist(ax=ax)\n",
    "ax.set_title('Renovation year distribution')"
   ]
  },
  {
   "cell_type": "code",
   "execution_count": null,
   "metadata": {},
   "outputs": [],
   "source": [
    "yr_non_zero = df[df[\"yr_renovated\"]==0].shape[0]\n",
    "perc_yr_non_zero = df[df[\"yr_renovated\"]==0].shape[0] * 100./df.shape[0]\n",
    "yr_non_zero, perc_yr_non_zero"
   ]
  },
  {
   "cell_type": "code",
   "execution_count": null,
   "metadata": {},
   "outputs": [],
   "source": [
    "df[['yr_built', 'yr_renovated']].corr()"
   ]
  },
  {
   "cell_type": "code",
   "execution_count": null,
   "metadata": {},
   "outputs": [],
   "source": [
    "ndf = df.copy()\n",
    "ndf['renovated_bin']= ndf.apply(lambda row: 1 if row['yr_renovated'] else 0, axis=1) \n",
    "ndf[['renovated_bin', 'price_bin']].corr()"
   ]
  },
  {
   "cell_type": "markdown",
   "metadata": {},
   "source": [
    "Number of entrees with renovation year equal 0 is 20699 or 95.77% of all data. \n",
    "Correlation, with construction year is also weak. The price may be related with some of newly renovated houses. However, at this point, it seems that this data may be omiited."
   ]
  },
  {
   "cell_type": "markdown",
   "metadata": {},
   "source": [
    "## yr_built featute"
   ]
  },
  {
   "cell_type": "code",
   "execution_count": null,
   "metadata": {},
   "outputs": [],
   "source": [
    "ax = plt.axes()\n",
    "df['yr_built'].hist(ax=ax)\n",
    "ax.set_title('Construction year distribution')"
   ]
  },
  {
   "cell_type": "markdown",
   "metadata": {},
   "source": [
    "This data should be tranformed to the house age\n"
   ]
  },
  {
   "cell_type": "markdown",
   "metadata": {},
   "source": [
    "## Bathrooms feature\n",
    "\n",
    "This column data is very weird. Its values' type are neither integer not reasonable, for instance, the appartment with 33 bedrooms has 1.75 bathrooms, and one with 6 bedrooms has 8 bathrooms. Likely it is outcome of an error during data farmation. Therefore in future study it will be omitted.   "
   ]
  },
  {
   "cell_type": "code",
   "execution_count": null,
   "metadata": {},
   "outputs": [],
   "source": [
    "from pandas.plotting import scatter_matrix\n",
    "scatter_matrix(df[['bedrooms','bathrooms']], figsize=(8,8))"
   ]
  },
  {
   "cell_type": "markdown",
   "metadata": {},
   "source": [
    "As we see from above correlation between destribution of bathrooms and bedrooms, we see the data is very weird (there are houses with more bathrooms then bedrooms, additionally its not integer value are not logical). Thus this feature will be omitted in further investigation."
   ]
  },
  {
   "cell_type": "markdown",
   "metadata": {},
   "source": [
    "## 33 bedrooms\n",
    "\n",
    "The entree with 33 bedrooms is not representative, so this enteree will be removed from the dataset."
   ]
  },
  {
   "cell_type": "markdown",
   "metadata": {},
   "source": [
    "## Criminal activities\n",
    "\n",
    "The public database with records since 2008 was used. The number of all criminal acts before May 2005 in the nearby area was added to the data frame."
   ]
  },
  {
   "cell_type": "code",
   "execution_count": null,
   "metadata": {},
   "outputs": [],
   "source": [
    "from sklearn.pipeline import Pipeline\n",
    "import base\n",
    "from base import DropColumns, YearTransformer\n",
    "importlib.reload(base)\n",
    "transform_pipeline = Pipeline([\n",
    "        ('clean', DropColumns(columns=['id', 'date', 'yr_renovated'])),\n",
    "        ('yr_built_transformer', YearTransformer(column='yr_built')),\n",
    "     ])\n"
   ]
  },
  {
   "cell_type": "code",
   "execution_count": null,
   "metadata": {},
   "outputs": [],
   "source": [
    "ndf = transform_pipeline.transform(df)\n",
    "ndf.head()"
   ]
  },
  {
   "cell_type": "markdown",
   "metadata": {},
   "source": [
    "# Visualization\n"
   ]
  },
  {
   "cell_type": "code",
   "execution_count": null,
   "metadata": {},
   "outputs": [],
   "source": [
    "import folium\n",
    "from IPython.display import display\n",
    "import branca.colormap as cm"
   ]
  },
  {
   "cell_type": "code",
   "execution_count": null,
   "metadata": {
    "tags": []
   },
   "outputs": [],
   "source": [
    "norm = plt.Normalize()\n",
    "v_max, v_min = ndf['criminal_activities'].max(), ndf['criminal_activities'].min()\n",
    "\n",
    "colormap = cm.LinearColormap(colors=['yellow', 'green', 'red'],\n",
    "                           vmin=v_min,\n",
    "                           vmax=v_max)\n",
    "house_map = folium.Map(location=[ndf['lat'].mean(), ndf['long'].mean()],\n",
    "                       min_lat=ndf['lat'].min(), \n",
    "                       max_lat=ndf['lat'].max(), \n",
    "                       min_lon=ndf['long'].min(), \n",
    "                       max_lon=ndf['long'].max(), \n",
    "                    #    zoom_control=False,\n",
    "                       scrollWheelZoom=False,\n",
    "                    #    dragging=False,\n",
    "                    )\n",
    "\n",
    "for i in range(len(df)):\n",
    "    folium.CircleMarker([ndf.iloc[i]['lat'], ndf.iloc[i]['long']],\n",
    "                        radius=1,\n",
    "                        color=colormap(ndf.iloc[i]['criminal_activities']),\n",
    "                        fill=True,\n",
    "                       ).add_to(house_map)\n",
    "\n",
    "display(house_map)"
   ]
  },
  {
   "cell_type": "code",
   "execution_count": null,
   "metadata": {},
   "outputs": [],
   "source": [
    "ndf['price_per_sqft'] = ndf['sqft_living'] / ndf['price']\n",
    "norm = plt.Normalize()\n",
    "v_max, v_min = ndf['price_per_sqft'].max(), ndf['price_per_sqft'].min()\n",
    "colormap = cm.LinearColormap(colors=['yellow', 'green', 'red'],\n",
    "                             vmin=v_min,\n",
    "                             vmax=v_max)\n",
    "house_map = folium.Map(location=[ndf['lat'].mean(), ndf['long'].mean()],\n",
    "                       min_lat=ndf['lat'].min(), \n",
    "                       max_lat=ndf['lat'].max(), \n",
    "                       min_lon=ndf['long'].min(), \n",
    "                       max_lon=ndf['long'].max(), \n",
    "                    #    zoom_control=False,\n",
    "                       scrollWheelZoom=False,\n",
    "                    #    dragging=False,\n",
    "                    )\n",
    "\n",
    "for i in range(len(df)):\n",
    "    folium.CircleMarker([ndf.iloc[i]['lat'], ndf.iloc[i]['long']],\n",
    "                        radius=1,\n",
    "                        color=colormap(ndf.iloc[i]['price_per_sqft']),\n",
    "                        fill=True,\n",
    "                       ).add_to(house_map)\n",
    "\n",
    "display(house_map)"
   ]
  },
  {
   "cell_type": "markdown",
   "metadata": {},
   "source": [
    "# Binary Model\n",
    "\n",
    "Detailed notebook file with an evaluation of appropriate loogistic regression and clusterization models  is located in [classification_bin_unskewed.ipynb](classification_bin_unskewed.ipynb) and neural network in [dl.ipynb](dl.ipynb)"
   ]
  },
  {
   "cell_type": "markdown",
   "metadata": {},
   "source": [
    "# Continueus Model\n",
    "\n",
    "Detailed notebook file with an evaluation of an appropriate Linear Regression model is located in [ml.ipynb](ml.ipynb)"
   ]
  }
 ],
 "metadata": {
  "kernelspec": {
   "display_name": "Python 3.7.5 64-bit ('houses-env': venv)",
   "name": "python37564bithousesenvvenv81d0e4f1e66c470d9a85d728409cf3f3"
  },
  "language_info": {
   "codemirror_mode": {
    "name": "ipython",
    "version": 3
   },
   "file_extension": ".py",
   "mimetype": "text/x-python",
   "name": "python",
   "nbconvert_exporter": "python",
   "pygments_lexer": "ipython3",
   "version": "3.7.5-final"
  }
 },
 "nbformat": 4,
 "nbformat_minor": 2
}
