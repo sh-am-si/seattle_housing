{
 "cells": [
  {
   "cell_type": "code",
   "execution_count": null,
   "metadata": {
    "tags": []
   },
   "outputs": [],
   "source": [
    "import importlib\n",
    "import utils \n",
    "\n",
    "import pandas as pd\n",
    "import numpy as np\n",
    "\n",
    "import matplotlib.pylab as plt\n",
    "from pandas.plotting import scatter_matrix\n",
    "import seaborn as sns; sns.set()\n",
    "\n",
    "from sklearn.pipeline import Pipeline\n",
    "\n",
    "%matplotlib inline"
   ]
  },
  {
   "cell_type": "code",
   "execution_count": null,
   "metadata": {
    "tags": []
   },
   "outputs": [],
   "source": [
    "importlib.reload(utils)\n",
    "\n",
    "df = utils.PrepareData().df\n",
    "df.head()"
   ]
  },
  {
   "cell_type": "code",
   "execution_count": null,
   "metadata": {},
   "outputs": [],
   "source": [
    "import my_transformers\n",
    "importlib.reload(my_transformers)\n",
    "from my_transformers import DropColumns, YearTransformer, ColumnToDateFormat, Drop33Rooms\n",
    "\n",
    "transform_pipeline = Pipeline([\n",
    "        ('yr_built_transformer', YearTransformer(column='yr_built')),\n",
    "        ('33_bedrooms_row_drop', Drop33Rooms()),\n",
    "        ('clean_flaw', DropColumns(columns=['id', 'date', 'yr_renovated'])),\n",
    "        # ('clean_flaw', DropColumns(columns=['bathrooms'])),\n",
    "        # ('clean_geodata', DropColumns(columns=['zipcode', 'lat', 'long'])),\n",
    "        # ('clean_duplicate', DropColumns(columns=['price'])),\n",
    "     ])\n",
    "ndf = transform_pipeline.transform(df)\n",
    "ndf.head()"
   ]
  },
  {
   "cell_type": "code",
   "execution_count": null,
   "metadata": {},
   "outputs": [],
   "source": [
    "ndf.columns"
   ]
  },
  {
   "cell_type": "code",
   "execution_count": null,
   "metadata": {},
   "outputs": [],
   "source": [
    "sns_plot = sns.pairplot(ndf[[ 'bedrooms', 'bathrooms', 'price_bin']], hue='price_bin', corner=True, size=5);\n",
    "sns_plot.savefig(\"figs/bedrooms_vs_bathrooms.png\")"
   ]
  },
  {
   "cell_type": "code",
   "execution_count": null,
   "metadata": {},
   "outputs": [],
   "source": [
    "sns_plot = sns.pairplot(ndf[['floors', 'grade', 'bedrooms', 'condition', 'view', 'price_bin']], hue='price_bin', corner=True, size=5)\n",
    "sns_plot.savefig(\"figs/cat_corr_matrix.png\")"
   ]
  },
  {
   "cell_type": "code",
   "execution_count": null,
   "metadata": {},
   "outputs": [],
   "source": [
    "sns_plot = sns.pairplot(ndf[['price', 'price_bin', 'sqft_living', 'sqft_lot', 'sqft_above', 'sqft_basement', \n",
    "       'sqft_living15', 'sqft_lot15']], hue='price_bin', corner=True, kind='reg', size=5)\n",
    "sns_plot.savefig(\"figs/cont_corr_matrix.png\")"
   ]
  },
  {
   "cell_type": "code",
   "execution_count": null,
   "metadata": {},
   "outputs": [],
   "source": [
    "def price_to_cat(val):\n",
    "    if val < 200_000:\n",
    "        return 0\n",
    "    elif val < 400_000:\n",
    "        return 1\n",
    "    elif val < 600_000:\n",
    "        return 2\n",
    "    elif val < 800_000:\n",
    "        return 3\n",
    "    elif val < 1000_000:\n",
    "        return 4\n",
    "    else:\n",
    "        return 5\n",
    "\n",
    "\n",
    "ndf['price_cat'] = ndf.apply(lambda row: price_to_cat(row['price']), axis=1)\n",
    "ndf.head()"
   ]
  },
  {
   "cell_type": "code",
   "execution_count": null,
   "metadata": {},
   "outputs": [],
   "source": [
    "sns_plot = sns.pairplot(ndf[['floors', 'grade', 'bedrooms', 'condition', 'view', 'price_cat']], hue='price_cat', corner=True, size=5)\n",
    "sns_plot.savefig(\"figs/cat_corr_matrix5.png\")"
   ]
  },
  {
   "cell_type": "code",
   "execution_count": null,
   "metadata": {},
   "outputs": [],
   "source": [
    "sns_plot = sns.pairplot(ndf[['price', 'price_cat', 'sqft_living', 'sqft_lot', 'sqft_above', 'sqft_basement', \n",
    "       'sqft_living15', 'sqft_lot15']], hue='price_cat', corner=True, kind='reg', size=5)\n",
    "sns_plot.savefig(\"figs/cont_corr_matrix5.png\")"
   ]
  },
  {
   "cell_type": "code",
   "execution_count": null,
   "metadata": {},
   "outputs": [],
   "source": [
    "ndf['bathrooms'].hist()"
   ]
  },
  {
   "cell_type": "code",
   "execution_count": null,
   "metadata": {},
   "outputs": [],
   "source": [
    "scatter_matrix(ndf[['bedrooms','bathrooms']], figsize=(8,8))"
   ]
  },
  {
   "cell_type": "code",
   "execution_count": null,
   "metadata": {},
   "outputs": [],
   "source": [
    "ndf.columns"
   ]
  },
  {
   "cell_type": "code",
   "execution_count": null,
   "metadata": {
    "tags": []
   },
   "outputs": [],
   "source": [
    "ndf = pd.get_dummies(ndf, columns=['bedrooms', 'floors', 'waterfront', 'view', 'condition','grade'])\n",
    "print(df.columns)\n",
    "ndf.head()"
   ]
  },
  {
   "cell_type": "code",
   "execution_count": null,
   "metadata": {
    "tags": []
   },
   "outputs": [],
   "source": [
    "print(ndf.columns)"
   ]
  },
  {
   "cell_type": "code",
   "execution_count": null,
   "metadata": {},
   "outputs": [],
   "source": []
  }
 ],
 "metadata": {
  "kernelspec": {
   "display_name": "Python 3.7.5 64-bit ('houses-env': venv)",
   "language": "python",
   "name": "python37564bithousesenvvenv81d0e4f1e66c470d9a85d728409cf3f3"
  },
  "language_info": {
   "codemirror_mode": {
    "name": "ipython",
    "version": 3
   },
   "file_extension": ".py",
   "mimetype": "text/x-python",
   "name": "python",
   "nbconvert_exporter": "python",
   "pygments_lexer": "ipython3",
   "version": "3.7.5-final"
  }
 },
 "nbformat": 4,
 "nbformat_minor": 2
}
