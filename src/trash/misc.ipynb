{
 "cells": [
  {
   "cell_type": "code",
   "execution_count": null,
   "metadata": {},
   "outputs": [],
   "source": [
    "import importlib\n",
    "import utils \n",
    "\n",
    "import pandas as pd\n",
    "import numpy as np\n",
    "\n",
    "import matplotlib.pylab as plt\n",
    "from pandas.plotting import scatter_matrix\n",
    "\n",
    "%matplotlib inline"
   ]
  },
  {
   "cell_type": "code",
   "execution_count": null,
   "metadata": {
    "tags": []
   },
   "outputs": [],
   "source": [
    "importlib.reload(utils)\n",
    "\n",
    "_pd = utils.PrepareData()\n",
    "df = _pd.df\n",
    "\n",
    "df.head()"
   ]
  },
  {
   "cell_type": "code",
   "execution_count": 18,
   "metadata": {
    "tags": []
   },
   "outputs": [
    {
     "output_type": "stream",
     "name": "stdout",
     "text": "|    | column              | kind        | data type   |   unique items |   nans |\n|---:|:--------------------|:------------|:------------|---------------:|-------:|\n|  0 | id                  | categorical | int64       |          21436 |      0 |\n|  1 | date                | categorical | object      |            372 |      0 |\n|  2 | price               | categorical | float64     |           3625 |      0 |\n|  3 | price_bin           | categorical | int64       |              2 |      0 |\n|  4 | bedrooms            | categorical | int64       |             13 |      0 |\n|  5 | bathrooms           | categorical | float64     |             30 |      0 |\n|  6 | sqft_living         | categorical | int64       |           1038 |      0 |\n|  7 | sqft_lot            | categorical | int64       |           9782 |      0 |\n|  8 | floors              | categorical | float64     |              6 |      0 |\n|  9 | waterfront          | categorical | int64       |              2 |      0 |\n| 10 | view                | categorical | int64       |              5 |      0 |\n| 11 | condition           | categorical | int64       |              5 |      0 |\n| 12 | grade               | categorical | int64       |             12 |      0 |\n| 13 | sqft_above          | categorical | int64       |            946 |      0 |\n| 14 | sqft_basement       | categorical | int64       |            306 |      0 |\n| 15 | yr_built            | categorical | int64       |            116 |      0 |\n| 16 | yr_renovated        | categorical | int64       |             70 |      0 |\n| 17 | zipcode             | categorical | int64       |             70 |      0 |\n| 18 | lat                 | categorical | float64     |           5034 |      0 |\n| 19 | long                | categorical | float64     |            752 |      0 |\n| 20 | sqft_living15       | categorical | int64       |            777 |      0 |\n| 21 | sqft_lot15          | categorical | int64       |           8689 |      0 |\n| 22 | criminal_activities | categorical | int64       |           1625 |      0 |\n"
    }
   ],
   "source": [
    "mddf = pd.DataFrame({\n",
    "    'column':          [column for column in df.columns],\n",
    "    'kind':            ['categorical' for column in df.columns],\n",
    "    'data type':       [df[column].dtype for column in df.columns],\n",
    "    'unique items':    [len(df[column].unique()) for column in df.columns],\n",
    "    'nans':            [df[df[column].isnull()].shape[0] for column in df.columns],\n",
    "})\n",
    "print(mddf.to_markdown())"
   ]
  },
  {
   "cell_type": "markdown",
   "metadata": {},
   "source": [
    "|    | column              | type    |   item count |   nans |\\n|---:|:--------------------|:--------|-------------:|-------:|\\n|  0 | Unnamed: 0          | int64   |        21613 |      0 |\\n|  1 | date                | object  |          372 |      0 |\\n|  2 | price               | float64 |         3625 |      0 |\\n|  3 | price_bin           | int64   |            2 |      0 |\\n|  4 | bedrooms            | int64   |           13 |      0 |\\n|  5 | bathrooms           | float64 |           30 |      0 |\\n|  6 | sqft_living         | int64   |         1038 |      0 |\\n|  7 | sqft_lot            | int64   |         9782 |      0 |\\n|  8 | floors              | float64 |            6 |      0 |\\n|  9 | waterfront          | int64   |            2 |      0 |\\n| 10 | view                | int64   |            5 |      0 |\\n| 11 | condition           | int64   |            5 |      0 |\\n| 12 | grade               | int64   |           12 |      0 |\\n| 13 | sqft_above          | int64   |          946 |      0 |\\n| 14 | sqft_basement       | int64   |          306 |      0 |\\n| 15 | yr_built            | int64   |          116 |      0 |\\n| 16 | yr_renovated        | int64   |           70 |      0 |\\n| 17 | zipcode             | int64   |           70 |      0 |\\n| 18 | lat                 | float64 |         5034 |      0 |\\n| 19 | long                | float64 |          752 |      0 |\\n| 20 | sqft_living15       | int64   |          777 |      0 |\\n| 21 | sqft_lot15          | int64   |         8689 |      0 |\\n| 22 | criminal_activities | int64   |         1625 |      0 |"
   ]
  },
  {
   "cell_type": "code",
   "execution_count": null,
   "metadata": {},
   "outputs": [],
   "source": []
  }
 ],
 "metadata": {
  "language_info": {
   "codemirror_mode": {
    "name": "ipython",
    "version": 3
   },
   "file_extension": ".py",
   "mimetype": "text/x-python",
   "name": "python",
   "nbconvert_exporter": "python",
   "pygments_lexer": "ipython3",
   "version": "3.7.5-final"
  },
  "orig_nbformat": 2,
  "kernelspec": {
   "name": "python37564bithousesenvvenv81d0e4f1e66c470d9a85d728409cf3f3",
   "display_name": "Python 3.7.5 64-bit ('houses-env': venv)"
  }
 },
 "nbformat": 4,
 "nbformat_minor": 2
}