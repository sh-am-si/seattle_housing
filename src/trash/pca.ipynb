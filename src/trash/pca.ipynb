{
 "cells": [
  {
   "cell_type": "markdown",
   "metadata": {},
   "source": [
    "https://data.seattle.gov/Public-Safety/SPD-Crime-Data-2008-Present/tazs-3rd5"
   ]
  },
  {
   "cell_type": "code",
   "execution_count": 5,
   "metadata": {},
   "outputs": [],
   "source": [
    "crime_df = pd.read_csv('data/SPD_Crime_Data__2008-Present.csv', sep=';', header = 0)"
   ]
  },
  {
   "cell_type": "code",
   "execution_count": 6,
   "metadata": {
    "tags": []
   },
   "outputs": [
    {
     "name": "stdout",
     "output_type": "stream",
     "text": [
      "<class 'pandas.core.frame.DataFrame'>\n",
      "RangeIndex: 843366 entries, 0 to 843365\n",
      "Data columns (total 17 columns):\n",
      " #   Column                  Non-Null Count   Dtype  \n",
      "---  ------                  --------------   -----  \n",
      " 0   Report Number           843366 non-null  object \n",
      " 1   Offense ID              843366 non-null  int64  \n",
      " 2   Offense Start DateTime  842878 non-null  object \n",
      " 3   Offense End DateTime    443159 non-null  object \n",
      " 4   Report DateTime         843366 non-null  object \n",
      " 5   Group A B               843366 non-null  object \n",
      " 6   Crime Against Category  843366 non-null  object \n",
      " 7   Offense Parent Group    843366 non-null  object \n",
      " 8   Offense                 843366 non-null  object \n",
      " 9   Offense Code            843366 non-null  object \n",
      " 10  Precinct                843366 non-null  object \n",
      " 11  Sector                  843366 non-null  object \n",
      " 12  Beat                    843366 non-null  object \n",
      " 13  MCPP                    843366 non-null  object \n",
      " 14  100 Block Address       812962 non-null  object \n",
      " 15  Longitude               843366 non-null  float64\n",
      " 16  Latitude                843366 non-null  float64\n",
      "dtypes: float64(2), int64(1), object(14)\n",
      "memory usage: 109.4+ MB\n"
     ]
    }
   ],
   "source": [
    "crime_df.info()"
   ]
  },
  {
   "cell_type": "code",
   "execution_count": 7,
   "metadata": {},
   "outputs": [
    {
     "data": {
      "text/plain": [
       "array(['PROPERTY', 'SOCIETY', 'PERSON', 'NOT_A_CRIME'], dtype=object)"
      ]
     },
     "execution_count": 7,
     "metadata": {},
     "output_type": "execute_result"
    }
   ],
   "source": [
    "crime_df['Crime Against Category'].unique()"
   ]
  },
  {
   "cell_type": "code",
   "execution_count": 9,
   "metadata": {},
   "outputs": [],
   "source": [
    "cdf = crime_df[crime_df['Crime Against Category'].isin(['PROPERTY','PERSON'])]"
   ]
  },
  {
   "cell_type": "code",
   "execution_count": 15,
   "metadata": {},
   "outputs": [],
   "source": [
    "cdf = pd.read_csv('data/seattle_crime_coord.csv')"
   ]
  },
  {
   "cell_type": "code",
   "execution_count": 16,
   "metadata": {},
   "outputs": [],
   "source": [
    "df = pd.read_csv('data/house.csv',  header = 0)"
   ]
  },
  {
   "cell_type": "code",
   "execution_count": null,
   "metadata": {},
   "outputs": [],
   "source": []
  }
 ],
 "metadata": {
  "kernelspec": {
   "display_name": "Python 3",
   "language": "python",
   "name": "python3"
  },
  "language_info": {
   "codemirror_mode": {
    "name": "ipython",
    "version": 3
   },
   "file_extension": ".py",
   "mimetype": "text/x-python",
   "name": "python",
   "nbconvert_exporter": "python",
   "pygments_lexer": "ipython3",
   "version": "3.7.4"
  }
 },
 "nbformat": 4,
 "nbformat_minor": 2
}