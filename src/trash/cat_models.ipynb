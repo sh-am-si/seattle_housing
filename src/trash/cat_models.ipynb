{
 "cells": [
  {
   "cell_type": "code",
   "execution_count": null,
   "metadata": {},
   "outputs": [],
   "source": [
    "import importlib\n",
    "import utils\n",
    "\n",
    "import pandas as pd\n",
    "import numpy as np\n",
    "\n",
    "import matplotlib.pylab as plt\n",
    "from pandas.plotting import scatter_matrix\n",
    "import seaborn as sns; sns.set()\n",
    "\n",
    "%matplotlib inline"
   ]
  },
  {
   "cell_type": "code",
   "execution_count": null,
   "metadata": {
    "tags": []
   },
   "outputs": [],
   "source": [
    "importlib.reload(utils)\n",
    "pd = utils.PrepareData()\n",
    "df = pd.df"
   ]
  },
  {
   "cell_type": "code",
   "execution_count": null,
   "metadata": {},
   "outputs": [],
   "source": [
    "column_types = {\n",
    "    'not_essential': ['id', 'date'],\n",
    "    'label_num': ['price'],\n",
    "    'label_cat': ['price_bin'],\n",
    "    'num': ['sqft_living', 'sqft_lot', 'sqft_above', 'sqft_basement', 'sqft_living15', 'sqft_lot15'],\n",
    "    'cat_size': ['bedrooms', 'bathrooms'],\n",
    "    'cat': ['floors', 'waterfront', 'view', 'condition', 'grade'],\n",
    "    'const_date': ['yr_built', 'yr_renovated'],\n",
    "    'geo_loc': ['lat', 'long'],\n",
    "    'zip': ['zipcode'],\n",
    "    'ca': ['criminal_activities']\n",
    "}"
   ]
  },
  {
   "cell_type": "code",
   "execution_count": null,
   "metadata": {},
   "outputs": [],
   "source": [
    "columns = column_types['label_num'] + column_types['label_cat'] + column_types['num'] + column_types['cat_size'] + column_types['cat'] + column_types['const_date'] + column_types['geo_loc'] + column_types['zip'] + column_types['ca']"
   ]
  },
  {
   "cell_type": "code",
   "execution_count": null,
   "metadata": {},
   "outputs": [],
   "source": [
    "from sklearn.decomposition import PCA  \n",
    "_df = df[columns]\n",
    "model = PCA(n_components=2)            \n",
    "model.fit(_df)                      \n",
    "X_2D = model.transform(_df)\n",
    "_df['PCA1'] = X_2D[:, 0]\n",
    "_df['PCA2'] = X_2D[:, 1]\n",
    "sns.lmplot(\"PCA1\", \"PCA2\", hue='price_bin', data=_df, fit_reg=False);"
   ]
  },
  {
   "cell_type": "code",
   "execution_count": null,
   "metadata": {},
   "outputs": [],
   "source": [
    "\n",
    "from sklearn.metrics import accuracy_score\n",
    "accuracy_score(ytest, y_model)\n",
    "\n"
   ]
  }
 ],
 "metadata": {
  "language_info": {
   "codemirror_mode": {
    "name": "ipython",
    "version": 3
   },
   "file_extension": ".py",
   "mimetype": "text/x-python",
   "name": "python",
   "nbconvert_exporter": "python",
   "pygments_lexer": "ipython3",
   "version": "3.7.4-final"
  },
  "orig_nbformat": 2,
  "kernelspec": {
   "name": "python3",
   "display_name": "Python 3"
  }
 },
 "nbformat": 4,
 "nbformat_minor": 2
}