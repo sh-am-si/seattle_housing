{
 "cells": [
  {
   "cell_type": "code",
   "execution_count": null,
   "metadata": {},
   "outputs": [],
   "source": [
    "import importlib\n",
    "import utils \n",
    "\n",
    "import pandas as pd\n",
    "import numpy as np\n",
    "\n",
    "import matplotlib.pylab as plt\n",
    "import seaborn as sns; sns.set()\n",
    "from pandas.plotting import scatter_matrix\n",
    "\n",
    "%matplotlib inline"
   ]
  },
  {
   "cell_type": "code",
   "execution_count": null,
   "metadata": {
    "tags": []
   },
   "outputs": [],
   "source": [
    "importlib.reload(utils)\n",
    "\n",
    "_pd = utils.PrepareData()\n",
    "df = _pd.df\n",
    "\n",
    "df.head()"
   ]
  },
  {
   "cell_type": "code",
   "execution_count": null,
   "metadata": {
    "tags": []
   },
   "outputs": [],
   "source": [
    "_df = df.copy()\n",
    "_df['date'] = pd.to_datetime(_df['date'])\n",
    "_df.set_index('date', inplace=True)\n",
    "_df.head()"
   ]
  },
  {
   "cell_type": "code",
   "execution_count": null,
   "metadata": {},
   "outputs": [],
   "source": [
    "_dfts = _df.resample('M')"
   ]
  },
  {
   "cell_type": "code",
   "execution_count": null,
   "metadata": {
    "tags": []
   },
   "outputs": [],
   "source": [
    "# _dfts = _df.resample('M')\n",
    "fig = plt.figure()\n",
    "fig.suptitle('Total sales per month')\n",
    "ax = fig.gca()\n",
    "df1 = _dfts['price'].sum()\n",
    "df1.plot(kind='line', c='r', ax=ax)\n",
    "# df2 = _dfts['waterfront'].sum()*100000000\n",
    "# df2.plot(ax=ax, c='g')\n",
    "plt.savefig('figs/sales_per_month.png')\n",
    "plt.show()"
   ]
  },
  {
   "cell_type": "code",
   "execution_count": null,
   "metadata": {},
   "outputs": [],
   "source": [
    "df['date'].min(), df['date'].max()"
   ]
  },
  {
   "cell_type": "code",
   "execution_count": null,
   "metadata": {},
   "outputs": [],
   "source": [
    "_df_address_ts = _df.resample('M') \n",
    "_ndf = _df_address_ts[['zipcode','price']]\n",
    "_ndf.head()"
   ]
  },
  {
   "cell_type": "code",
   "execution_count": null,
   "metadata": {
    "tags": [
     "outputPrepend"
    ]
   },
   "outputs": [],
   "source": [
    "for name, gr in _df.groupby(['zipcode']):\n",
    "    print(name, gr)"
   ]
  },
  {
   "cell_type": "code",
   "execution_count": null,
   "metadata": {},
   "outputs": [],
   "source": [
    "_ndf = _df.groupby('zipcode').resample('M')['price'].sum()\n",
    "_ndf[:7]"
   ]
  },
  {
   "cell_type": "code",
   "execution_count": null,
   "metadata": {},
   "outputs": [],
   "source": [
    "_ndf1 = pd.DataFrame({zc:_ndf[zc] for zc in _ndf.index.get_level_values('zipcode')})"
   ]
  },
  {
   "cell_type": "code",
   "execution_count": null,
   "metadata": {},
   "outputs": [],
   "source": [
    "_ndf1.head()"
   ]
  },
  {
   "cell_type": "code",
   "execution_count": null,
   "metadata": {},
   "outputs": [],
   "source": [
    "\n",
    "corr_df = _ndf1.corr()\n",
    "fig = plt.figure(figsize=(12,10)) \n",
    "ax = fig.gca()\n",
    "sns.heatmap(corr_df, cmap='jet', ax=ax) \n",
    "fig.savefig(\"figs/zipcode_corr_per_month.png\")"
   ]
  },
  {
   "cell_type": "code",
   "execution_count": null,
   "metadata": {},
   "outputs": [],
   "source": []
  }
 ],
 "metadata": {
  "kernelspec": {
   "display_name": "Python 3.7.5 64-bit ('houses-env': venv)",
   "name": "python37564bithousesenvvenv81d0e4f1e66c470d9a85d728409cf3f3"
  },
  "language_info": {
   "codemirror_mode": {
    "name": "ipython",
    "version": 3
   },
   "file_extension": ".py",
   "mimetype": "text/x-python",
   "name": "python",
   "nbconvert_exporter": "python",
   "pygments_lexer": "ipython3",
   "version": "3.7.5-final"
  }
 },
 "nbformat": 4,
 "nbformat_minor": 2
}
