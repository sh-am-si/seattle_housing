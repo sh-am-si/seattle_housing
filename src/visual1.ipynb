{
 "cells": [
  {
   "cell_type": "code",
   "execution_count": null,
   "metadata": {},
   "outputs": [],
   "source": [
    "import csv\n",
    "import pandas as pd\n",
    "import numpy as np\n",
    "import datetime\n",
    "import matplotlib.pylab as plt\n",
    "import os\n",
    "\n",
    "import altair as alt\n",
    "\n",
    "import folium\n",
    "from IPython.display import display\n",
    "\n",
    "# import matplotlib.cm as cm\n",
    "import branca.colormap as cm\n",
    "\n",
    "import ipywidgets as widgets\n",
    "\n",
    "%matplotlib inline\n",
    "alt.renderers.enable('mimetype')\n"
   ]
  },
  {
   "cell_type": "code",
   "execution_count": null,
   "metadata": {},
   "outputs": [],
   "source": [
    "df = pd.read_csv('data/houses_with_ca.csv',  header = 0)"
   ]
  },
  {
   "cell_type": "code",
   "execution_count": null,
   "metadata": {
    "tags": []
   },
   "outputs": [],
   "source": [
    "df.info()"
   ]
  },
  {
   "cell_type": "code",
   "execution_count": null,
   "metadata": {},
   "outputs": [],
   "source": [
    "df.describe()"
   ]
  },
  {
   "cell_type": "code",
   "execution_count": null,
   "metadata": {},
   "outputs": [],
   "source": [
    "type(df)"
   ]
  },
  {
   "cell_type": "code",
   "execution_count": null,
   "metadata": {},
   "outputs": [],
   "source": [
    "df.columns"
   ]
  },
  {
   "cell_type": "code",
   "execution_count": null,
   "metadata": {},
   "outputs": [],
   "source": [
    "\n",
    "\n",
    "norm = plt.Normalize()\n",
    "ca_max, ca_min = df['crime_activity'].max(), df['crime_activity'].min()\n",
    "price_max, price_min = df['price'].max(), df['price'].min()\n",
    "print(ca_max, ca_min)\n",
    "colormap = cm.LinearColormap(colors=['yellow', 'green', 'red'],\n",
    "                           vmin=df['crime_activity'].min(),\n",
    "                           vmax=df['crime_activity'].max())\n",
    "house_map = folium.Map(location=[df['lat'].mean(), df['long'].mean()],\n",
    "                       min_lat=df['lat'].min(), \n",
    "                       max_lat=df['lat'].max(), \n",
    "                       min_lon=df['long'].min(), \n",
    "                       max_lon=df['long'].max(), \n",
    "                    #    zoom_control=False,\n",
    "                       scrollWheelZoom=False,\n",
    "                    #    dragging=False,\n",
    "                    )\n",
    "\n",
    "for i in range(len(df)):\n",
    "    folium.CircleMarker([df.iloc[i]['lat'], df.iloc[i]['long']],\n",
    "                        radius=1,\n",
    "                        color=colormap(df.iloc[i]['crime_activity']),\n",
    "                        fill=True,\n",
    "                       ).add_to(house_map)\n",
    "\n",
    "display(house_map)\n",
    "\n"
   ]
  },
  {
   "cell_type": "code",
   "execution_count": null,
   "metadata": {},
   "outputs": [],
   "source": []
  }
 ],
 "metadata": {
  "kernelspec": {
   "display_name": "Python 3.7.5 64-bit ('houses-env': venv)",
   "name": "python37564bithousesenvvenv81d0e4f1e66c470d9a85d728409cf3f3"
  },
  "language_info": {
   "codemirror_mode": {
    "name": "ipython",
    "version": 3
   },
   "file_extension": ".py",
   "mimetype": "text/x-python",
   "name": "python",
   "nbconvert_exporter": "python",
   "pygments_lexer": "ipython3",
   "version": "3.7.5-final"
  }
 },
 "nbformat": 4,
 "nbformat_minor": 2
}
