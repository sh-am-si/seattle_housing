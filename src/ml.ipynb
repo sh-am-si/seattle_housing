{
 "cells": [
  {
   "cell_type": "code",
   "execution_count": null,
   "metadata": {},
   "outputs": [],
   "source": [
    "import csv\n",
    "import pandas as pd\n",
    "import numpy as np\n",
    "import datetime\n",
    "import matplotlib.pylab as plt\n",
    "import os\n",
    "import importlib\n",
    "\n",
    "import my_transformers\n",
    "import utils\n",
    "import const\n",
    "\n",
    "from sklearn.model_selection import train_test_split\n",
    "from sklearn.model_selection import cross_val_score\n",
    "from sklearn.model_selection import GridSearchCV\n",
    "from sklearn.linear_model import LinearRegression, Ridge, Lasso\n",
    "from sklearn.tree import DecisionTreeRegressor\n",
    "from sklearn.metrics import mean_squared_error\n",
    "\n",
    "from sklearn.pipeline import Pipeline\n",
    "from sklearn.preprocessing import StandardScaler\n",
    "\n",
    "from sklearn.metrics import mean_squared_error\n",
    "\n",
    "from sklearn.base import BaseEstimator, TransformerMixin\n",
    "\n",
    "%matplotlib inline"
   ]
  },
  {
   "cell_type": "code",
   "execution_count": null,
   "metadata": {
    "tags": []
   },
   "outputs": [],
   "source": [
    "importlib.reload(utils)\n",
    "\n",
    "df = utils.PrepareData().df\n",
    "df.head()"
   ]
  },
  {
   "cell_type": "code",
   "execution_count": null,
   "metadata": {},
   "outputs": [],
   "source": [
    "importlib.reload(my_transformers)\n",
    "from my_transformers import DropColumns, YearTransformer, ColumnToDateFormat, Drop33Rooms\n",
    "\n",
    "transform_pipeline = Pipeline([\n",
    "        ('yr_built_transformer', YearTransformer(column='yr_built')),\n",
    "        ('33_bedrooms_row_drop', Drop33Rooms()),\n",
    "        ('clean1', DropColumns(columns=['id', 'date', 'yr_renovated', 'bathrooms'])),\n",
    "        # ('clean2', DropColumns(columns=['criminal_activities'])),\n",
    "        ('clean3', DropColumns(columns=['zipcode'])),\n",
    "        \n",
    "     ])\n",
    "ndf = transform_pipeline.transform(df)\n",
    "# ndf.head()"
   ]
  },
  {
   "cell_type": "markdown",
   "metadata": {},
   "source": [
    "# Linear Regression"
   ]
  },
  {
   "cell_type": "code",
   "execution_count": null,
   "metadata": {
    "tags": []
   },
   "outputs": [],
   "source": [
    "train_X, test_X, train_y, test_y = train_test_split(\n",
    "    ndf.drop(columns=['price','price_bin'], inplace=False),\n",
    "    ndf['price'],\n",
    "    test_size=const.TEST_SIZE,\n",
    "    random_state=const.RANDOM_STATE\n",
    "    )\n",
    "\n",
    "for v in [train_X, test_X, train_y, test_y]:\n",
    "    print(getattr(v, 'shape'), end=' - ')"
   ]
  },
  {
   "cell_type": "code",
   "execution_count": null,
   "metadata": {},
   "outputs": [],
   "source": [
    "lr = LinearRegression()\n",
    "lr.fit(train_X, train_y)\n"
   ]
  },
  {
   "cell_type": "code",
   "execution_count": null,
   "metadata": {},
   "outputs": [],
   "source": [
    "lr.coef_, lr.intercept_"
   ]
  },
  {
   "cell_type": "code",
   "execution_count": null,
   "metadata": {},
   "outputs": [],
   "source": [
    "housing_predict = lr.predict(test_X)\n",
    "lr_mse = mean_squared_error(test_y, housing_predict)\n",
    "np.sqrt(lr_mse)"
   ]
  },
  {
   "cell_type": "code",
   "execution_count": null,
   "metadata": {
    "tags": []
   },
   "outputs": [],
   "source": [
    "scores = cross_val_score(lr,\n",
    "                         train_X,\n",
    "                         train_y,\n",
    "                         cv=4,\n",
    "                         scoring='r2')\n",
    "print('Mean: ', np.mean(scores))\n",
    "print('STD: ', np.std(scores))"
   ]
  },
  {
   "cell_type": "code",
   "execution_count": null,
   "metadata": {},
   "outputs": [],
   "source": [
    "ridge_reg = Ridge(alpha=1, solver='cholesky')\n",
    "ridge_reg.fit(train_X, train_y)\n",
    "predict = lr.predict(test_X)\n",
    "ridge_mse = mean_squared_error(test_y, predict)\n",
    "np.sqrt(ridge_mse)"
   ]
  },
  {
   "cell_type": "code",
   "execution_count": null,
   "metadata": {
    "tags": []
   },
   "outputs": [],
   "source": [
    "scores = cross_val_score(ridge_reg,\n",
    "                         train_X,\n",
    "                         train_y,\n",
    "                         cv=4,\n",
    "                         scoring='r2')\n",
    "print('Mean: ', np.mean(scores))\n",
    "print('STD: ', np.std(scores))"
   ]
  },
  {
   "cell_type": "code",
   "execution_count": null,
   "metadata": {
    "tags": []
   },
   "outputs": [],
   "source": [
    "param_grid = {\n",
    "    'alpha': [0.0001, 0.01, 0.1, 1, 10, 100, ],\n",
    "    'normalize': [True, False],\n",
    "    'solver': ['auto', 'svd', 'cholesky', 'lsqr', 'sparse_cg', 'sag', 'saga']\n",
    "    }\n",
    "grid = GridSearchCV(estimator=ridge_reg,\n",
    "                    param_grid=param_grid,\n",
    "                    scoring='r2',\n",
    "                    verbose=1,\n",
    "                    n_jobs=-1)\n",
    "grid_result = grid.fit(train_X, train_y)\n",
    "\n",
    "print('Best Score: ', grid_result.best_score_)\n",
    "print('Best Params: ', grid_result.best_params_)"
   ]
  },
  {
   "cell_type": "code",
   "execution_count": null,
   "metadata": {},
   "outputs": [],
   "source": []
  },
  {
   "cell_type": "code",
   "execution_count": null,
   "metadata": {},
   "outputs": [],
   "source": [
    "lasso_reg = Lasso(alpha=1)\n",
    "lasso_reg.fit(train_X, train_y)\n",
    "predict = lr.predict(test_X)\n",
    "lasso_mse = mean_squared_error(test_y, predict)\n",
    "np.sqrt(lasso_mse)"
   ]
  },
  {
   "cell_type": "code",
   "execution_count": null,
   "metadata": {
    "tags": []
   },
   "outputs": [],
   "source": [
    "scores = cross_val_score(lasso_reg,\n",
    "                         train_X,\n",
    "                         train_y,\n",
    "                         cv=5,\n",
    "                         scoring='r2')\n",
    "print('Mean: ', np.mean(scores))\n",
    "print('STD: ', np.std(scores))"
   ]
  },
  {
   "cell_type": "code",
   "execution_count": null,
   "metadata": {
    "tags": []
   },
   "outputs": [],
   "source": [
    "param_grid = {\n",
    "    'alpha': [ 0.1, 1, 5, 10, 20, 30, 50, 100],\n",
    "    'selection': ['cyclic', 'random'],\n",
    "    'normalize': [True, False],\n",
    "    }\n",
    "grid = GridSearchCV(estimator=lasso_reg,\n",
    "                    param_grid=param_grid,\n",
    "                    scoring='r2',\n",
    "                    verbose=1,\n",
    "                    n_jobs=-1)\n",
    "grid_result = grid.fit(train_X, train_y)\n",
    "\n",
    "print('Best Score: ', grid_result.best_score_)\n",
    "print('Best Params: ', grid_result.best_params_)\n"
   ]
  },
  {
   "cell_type": "code",
   "execution_count": null,
   "metadata": {
    "tags": []
   },
   "outputs": [],
   "source": [
    "lasso_reg_opt= Lasso(**grid_result.best_params_)\n",
    "lasso_reg_opt.fit(train_X, train_y)\n",
    "predict = lr.predict(test_X)\n",
    "lasso_mse = mean_squared_error(test_y, predict)\n",
    "np.sqrt(lasso_mse)\n",
    "\n",
    "scores = cross_val_score(lasso_reg_opt,\n",
    "                         train_X,\n",
    "                         train_y,\n",
    "                         cv=5,\n",
    "                         scoring='r2')\n",
    "print('Mean: ', np.mean(scores))\n",
    "print('STD: ', np.std(scores))\n"
   ]
  },
  {
   "cell_type": "code",
   "execution_count": null,
   "metadata": {},
   "outputs": [],
   "source": [
    "tr = DecisionTreeRegressor()\n",
    "tr.fit(train_X, train_y)\n",
    "housing_predict = tr.predict(test_X)\n",
    "tr_mse = mean_squared_error(test_y, housing_predict)\n",
    "np.sqrt(tr_mse)"
   ]
  },
  {
   "cell_type": "code",
   "execution_count": null,
   "metadata": {
    "tags": []
   },
   "outputs": [],
   "source": [
    "param_grid = {\n",
    "    'criterion': ['mse', 'friedman_mse', 'mae'],\n",
    "    'splitter': ['best', 'random'],\n",
    "    'max_depth': [5, 15, 25, None],\n",
    "    }\n",
    "grid = GridSearchCV(estimator=tr,\n",
    "                    param_grid=param_grid,\n",
    "                    scoring='r2',\n",
    "                    verbose=1,\n",
    "                    n_jobs=-1)\n",
    "grid_result = grid.fit(train_X, train_y)\n",
    "\n",
    "print('Best Score: ', grid_result.best_score_)\n",
    "print('Best Params: ', grid_result.best_params_)\n"
   ]
  },
  {
   "cell_type": "code",
   "execution_count": null,
   "metadata": {
    "tags": []
   },
   "outputs": [],
   "source": [
    "scores = cross_val_score(tr,\n",
    "                         train_X,\n",
    "                         train_y,\n",
    "                         cv=5,\n",
    "                         scoring='r2')\n",
    "print('CV Mean: ', np.mean(scores))\n",
    "print('STD: ', np.std(scores))"
   ]
  },
  {
   "cell_type": "code",
   "execution_count": null,
   "metadata": {
    "tags": []
   },
   "outputs": [],
   "source": [
    "tr_opt= DecisionTreeRegressor(**grid_result.best_params_)\n",
    "tr_opt.fit(train_X, train_y)\n",
    "predict = lr.predict(test_X)\n",
    "tr_mse = mean_squared_error(test_y, predict)\n",
    "np.sqrt(tr_mse)\n",
    "\n",
    "scores = cross_val_score(tr_opt,\n",
    "                         train_X,\n",
    "                         train_y,\n",
    "                         cv=4,\n",
    "                         scoring='r2')\n",
    "print('Mean: ', np.mean(scores))\n",
    "print('STD: ', np.std(scores))"
   ]
  },
  {
   "cell_type": "code",
   "execution_count": null,
   "metadata": {},
   "outputs": [],
   "source": []
  }
 ],
 "metadata": {
  "kernelspec": {
   "display_name": "Python 3",
   "name": "python3"
  },
  "language_info": {
   "codemirror_mode": {
    "name": "ipython",
    "version": 3
   },
   "file_extension": ".py",
   "mimetype": "text/x-python",
   "name": "python",
   "nbconvert_exporter": "python",
   "pygments_lexer": "ipython3",
   "version": "3.7.4-final"
  }
 },
 "nbformat": 4,
 "nbformat_minor": 2
}
