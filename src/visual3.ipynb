{
 "cells": [
  {
   "cell_type": "code",
   "execution_count": null,
   "metadata": {},
   "outputs": [],
   "source": [
    "import importlib\n",
    "import utils \n",
    "import json\n",
    "import geojson\n",
    "\n",
    "import pandas as pd\n",
    "import geopandas as gpd\n",
    "import numpy as np\n",
    "\n",
    "import matplotlib.pylab as plt\n",
    "import seaborn as sns; sns.set()\n",
    "\n",
    "from shapely.geometry import Point\n",
    "\n",
    "%matplotlib inline"
   ]
  },
  {
   "cell_type": "code",
   "execution_count": null,
   "metadata": {
    "tags": []
   },
   "outputs": [],
   "source": [
    "importlib.reload(utils)\n",
    "\n",
    "df = utils.PrepareData().df\n",
    "df.head()"
   ]
  },
  {
   "cell_type": "code",
   "execution_count": null,
   "metadata": {
    "tags": []
   },
   "outputs": [],
   "source": [
    "df.info()"
   ]
  },
  {
   "cell_type": "code",
   "execution_count": null,
   "metadata": {},
   "outputs": [],
   "source": [
    "gdf = gpd.read_file(\"data/boundaries.geojson\", driver='GeoJSON')\n",
    "gdf.head()"
   ]
  },
  {
   "cell_type": "code",
   "execution_count": null,
   "metadata": {},
   "outputs": [],
   "source": [
    "f, ax = plt.subplots(1, figsize=(15, 15))\n",
    "gdf.plot(facecolor=\"none\",\n",
    "         edgecolor=\"b\",\n",
    "         ax=ax)\n",
    "         \n",
    "f.suptitle('Seattle borders')\n",
    "plt.savefig('figs/seattle_borders.png')\n",
    "plt.show()"
   ]
  },
  {
   "cell_type": "code",
   "execution_count": null,
   "metadata": {},
   "outputs": [],
   "source": [
    "df.head()"
   ]
  },
  {
   "cell_type": "code",
   "execution_count": null,
   "metadata": {},
   "outputs": [],
   "source": [
    "df[['long', 'lat']].describe()"
   ]
  },
  {
   "cell_type": "code",
   "execution_count": null,
   "metadata": {},
   "outputs": [],
   "source": [
    "points = [Point(df.iloc[i][['long', 'lat']]) for i in range(df.shape[0])]"
   ]
  },
  {
   "cell_type": "code",
   "execution_count": null,
   "metadata": {},
   "outputs": [],
   "source": [
    "gdf['count'] = gdf.geometry.apply(lambda row: sum([row.contains(p) for p in points] ) )"
   ]
  },
  {
   "cell_type": "code",
   "execution_count": null,
   "metadata": {},
   "outputs": [],
   "source": [
    "gdf.head()"
   ]
  },
  {
   "cell_type": "code",
   "execution_count": null,
   "metadata": {},
   "outputs": [],
   "source": [
    "[gdf[gdf['OBJECTID'] == i] for i in range(gdf.shape[0])]"
   ]
  },
  {
   "cell_type": "code",
   "execution_count": null,
   "metadata": {},
   "outputs": [],
   "source": [
    "g = json.loads(gdf.to_json())\n",
    "n = len(g['features'])\n",
    "max_coords = np.array([np.array(g['features'][i]['geometry']['coordinates'][0]).max(axis=0) for i in range(n)]).max(axis=0)\n",
    "min_coords = np.array([np.array(g['features'][i]['geometry']['coordinates'][0]).min(axis=0) for i in range(n)]).min(axis=0)"
   ]
  },
  {
   "cell_type": "code",
   "execution_count": null,
   "metadata": {
    "tags": []
   },
   "outputs": [],
   "source": [
    "f, ax = plt.subplots(1, figsize=(15, 15))\n",
    "gdf.plot(column=\"count\",\n",
    "         edgecolor=\"k\",\n",
    "         colormap='jet',\n",
    "         ax=ax,\n",
    "         legend=True\n",
    "         )\n",
    "\n",
    "f.suptitle('Number of sales by districts')\n",
    "plt.savefig('figs/number_of_sales_by_district.png')\n",
    "plt.show()"
   ]
  },
  {
   "cell_type": "code",
   "execution_count": null,
   "metadata": {},
   "outputs": [],
   "source": [
    "gdf1 = gdf.copy()\n",
    "gdf1['sale_numbers'] = gdf1['SHAPE_Area'] / gdf1['count']\n",
    "f, ax = plt.subplots(1, figsize=(15, 15))\n",
    "gdf1.plot(column=\"sale_numbers\",\n",
    "         edgecolor=\"k\",\n",
    "         colormap='jet',\n",
    "         ax=ax,\n",
    "         legend=True\n",
    "         )\n",
    "\n",
    "f.suptitle('Number of sales per ')\n",
    "# plt.savefig('figs/number_of_sales_by_district.png')\n",
    "plt.show()"
   ]
  },
  {
   "cell_type": "code",
   "execution_count": null,
   "metadata": {},
   "outputs": [],
   "source": [
    "df.head()"
   ]
  },
  {
   "cell_type": "code",
   "execution_count": null,
   "metadata": {},
   "outputs": [],
   "source": [
    "ndf = df.copy()\n",
    "def get_city_id(row):\n",
    "    point = Point(row[['long', 'lat']])\n",
    "    for i in range(gdf.shape[0]):\n",
    "        if gdf.iloc[i].geometry.contains(point):\n",
    "            return i\n",
    "    else:\n",
    "        return -1\n",
    "\n",
    "ndf['city_id'] = ndf.apply(get_city_id, axis=1)"
   ]
  },
  {
   "cell_type": "code",
   "execution_count": null,
   "metadata": {},
   "outputs": [],
   "source": [
    "ndf.head()"
   ]
  },
  {
   "cell_type": "code",
   "execution_count": null,
   "metadata": {},
   "outputs": [],
   "source": [
    "ndf['city_id'].value_counts()"
   ]
  },
  {
   "cell_type": "code",
   "execution_count": null,
   "metadata": {
    "tags": []
   },
   "outputs": [],
   "source": [
    "\n",
    "ndf['price_per_sqft'] = ndf['price'] / ndf['sqft_living']\n",
    "ndf.head()\n",
    "gdf['price_per_sqft'] = ndf.groupby('city_id')['price_per_sqft'].mean()"
   ]
  },
  {
   "cell_type": "code",
   "execution_count": null,
   "metadata": {},
   "outputs": [],
   "source": [
    "gdf.head()"
   ]
  },
  {
   "cell_type": "code",
   "execution_count": null,
   "metadata": {},
   "outputs": [],
   "source": [
    "f, ax = plt.subplots(1, figsize=(15, 15))\n",
    "gdf.plot(column=\"price_per_sqft\",\n",
    "         edgecolor=\"k\",\n",
    "         colormap='jet',\n",
    "         ax=ax,\n",
    "         legend=True\n",
    "         )\n",
    "f.suptitle('Average price per square foot by districts')\n",
    "plt.savefig('figs/average_price_per_sqft_by_district.png')\n",
    "plt.show()"
   ]
  },
  {
   "cell_type": "code",
   "execution_count": null,
   "metadata": {},
   "outputs": [],
   "source": []
  }
 ],
 "metadata": {
  "kernelspec": {
   "display_name": "Python 3.7.5 64-bit ('houses-env': venv)",
   "name": "python37564bithousesenvvenv81d0e4f1e66c470d9a85d728409cf3f3"
  },
  "language_info": {
   "codemirror_mode": {
    "name": "ipython",
    "version": 3
   },
   "file_extension": ".py",
   "mimetype": "text/x-python",
   "name": "python",
   "nbconvert_exporter": "python",
   "pygments_lexer": "ipython3",
   "version": "3.7.5-final"
  }
 },
 "nbformat": 4,
 "nbformat_minor": 2
}
