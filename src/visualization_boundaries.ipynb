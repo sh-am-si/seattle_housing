{
 "cells": [
  {
   "cell_type": "code",
   "execution_count": null,
   "metadata": {
    "tags": []
   },
   "outputs": [],
   "source": [
    "# !wget -c \"https://opendata.arcgis.com/datasets/d508083ebd7d444b9997639af845937d_1.geojson\" --output-document=data/boundaries.geojson"
   ]
  },
  {
   "cell_type": "code",
   "execution_count": null,
   "metadata": {},
   "outputs": [],
   "source": [
    "import geojson\n",
    "import altair as alt\n",
    "import numpy as np\n",
    "import json\n",
    "import matplotlib.pyplot as plt\n",
    "%matplotlib inline"
   ]
  },
  {
   "cell_type": "code",
   "execution_count": null,
   "metadata": {},
   "outputs": [],
   "source": [
    "import geopandas as gpd\n",
    "gdf = gpd.read_file(\"data/boundaries.geojson\", driver='GeoJSON')\n"
   ]
  },
  {
   "cell_type": "code",
   "execution_count": null,
   "metadata": {},
   "outputs": [],
   "source": [
    "gdf.tail()"
   ]
  },
  {
   "cell_type": "code",
   "execution_count": null,
   "metadata": {
    "tags": []
   },
   "outputs": [],
   "source": [
    "g = json.loads(gdf.to_json())\n",
    "n = len(g['features'])\n",
    "\n",
    "max_coords = np.array([np.array(g['features'][i]['geometry']['coordinates'][0]).max(axis=0) for i in range(n)]).max(axis=0)\n",
    "min_coords = np.array([np.array(g['features'][i]['geometry']['coordinates'][0]).min(axis=0) for i in range(n)]).min(axis=0)"
   ]
  },
  {
   "cell_type": "code",
   "execution_count": null,
   "metadata": {},
   "outputs": [],
   "source": [
    "max_coords, min_coords"
   ]
  },
  {
   "cell_type": "code",
   "execution_count": null,
   "metadata": {},
   "outputs": [],
   "source": [
    "f, ax = plt.subplots(1, figsize=(15, 15))\n",
    "ax = gdf.plot(ax=ax)\n",
    "ax.set_xlim([min_coords[0], max_coords[0]])\n",
    "ax.set_ylim([min_coords[1], max_coords[1]])\n",
    "plt.show()"
   ]
  },
  {
   "cell_type": "code",
   "execution_count": null,
   "metadata": {},
   "outputs": [],
   "source": []
  }
 ],
 "metadata": {
  "kernelspec": {
   "display_name": "Python 3.7.5 64-bit ('houses-env': venv)",
   "name": "python37564bithousesenvvenv81d0e4f1e66c470d9a85d728409cf3f3"
  },
  "language_info": {
   "codemirror_mode": {
    "name": "ipython",
    "version": 3
   },
   "file_extension": ".py",
   "mimetype": "text/x-python",
   "name": "python",
   "nbconvert_exporter": "python",
   "pygments_lexer": "ipython3",
   "version": "3.7.5-final"
  }
 },
 "nbformat": 4,
 "nbformat_minor": 2
}
